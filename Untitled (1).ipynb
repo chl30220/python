{
 "cells": [
  {
   "cell_type": "markdown",
   "metadata": {},
   "source": [
    "## for_format_list"
   ]
  },
  {
   "cell_type": "code",
   "execution_count": 3,
   "metadata": {},
   "outputs": [
    {
     "name": "stdout",
     "output_type": "stream",
     "text": [
      "진상 승훈 형주\n"
     ]
    }
   ],
   "source": [
    "s = '{} {} {}'\n",
    "pr = s.format('진상', '승훈', '형주')\n",
    "print(pr)"
   ]
  },
  {
   "cell_type": "code",
   "execution_count": 6,
   "metadata": {},
   "outputs": [
    {
     "name": "stdout",
     "output_type": "stream",
     "text": [
      "진상이는 30201번이고 인하대학에 갔어\n"
     ]
    }
   ],
   "source": [
    "s = '{}이는 {}번이고 {}대학에 갔어'\n",
    "pr = s.format('진상', 30201, '인하')\n",
    "print(pr)"
   ]
  },
  {
   "cell_type": "markdown",
   "metadata": {},
   "source": [
    "### [문제]햄버거 1개는 4달라"
   ]
  },
  {
   "cell_type": "code",
   "execution_count": 8,
   "metadata": {},
   "outputs": [
    {
     "name": "stdout",
     "output_type": "stream",
     "text": [
      "햄버거 1개는 4달라\n"
     ]
    }
   ],
   "source": [
    "s = '{} {}개는 {}달라'\n",
    "pr = s.format('햄버거', 1, 4)\n",
    "print(pr)"
   ]
  },
  {
   "cell_type": "code",
   "execution_count": 9,
   "metadata": {},
   "outputs": [
    {
     "name": "stdout",
     "output_type": "stream",
     "text": [
      "햄버거 2개는 8달라\n"
     ]
    }
   ],
   "source": [
    "food = '햄버거'\n",
    "num = 2\n",
    "price = num*4\n",
    "s = '{} {}개는 {}달라'\n",
    "pr = s.format(food, num, price)\n",
    "print(pr)"
   ]
  },
  {
   "cell_type": "code",
   "execution_count": 11,
   "metadata": {},
   "outputs": [
    {
     "name": "stdout",
     "output_type": "stream",
     "text": [
      "메뉴입력 >>밥\n",
      "개수입력 >>4\n",
      "밥 4개는 16달라\n"
     ]
    }
   ],
   "source": [
    "food = input('메뉴입력 >>')\n",
    "num = int(input('개수입력 >>'))\n",
    "price = num*4\n",
    "s = '{} {}개는 {}달라'\n",
    "pr = s.format(food, num, price)\n",
    "print(pr)"
   ]
  },
  {
   "cell_type": "code",
   "execution_count": 29,
   "metadata": {},
   "outputs": [
    {
     "name": "stdout",
     "output_type": "stream",
     "text": [
      "햄버거 개수와 가격 >>10 5\n"
     ]
    }
   ],
   "source": [
    "menu = list(map(int,input('햄버거 개수와 가격 >>').split()))\n",
    "\n"
   ]
  },
  {
   "cell_type": "code",
   "execution_count": 30,
   "metadata": {},
   "outputs": [
    {
     "data": {
      "text/plain": [
       "list"
      ]
     },
     "execution_count": 30,
     "metadata": {},
     "output_type": "execute_result"
    }
   ],
   "source": [
    "type(menu)"
   ]
  },
  {
   "cell_type": "code",
   "execution_count": 31,
   "metadata": {},
   "outputs": [
    {
     "data": {
      "text/plain": [
       "(10, 5)"
      ]
     },
     "execution_count": 31,
     "metadata": {},
     "output_type": "execute_result"
    }
   ],
   "source": [
    "menu[0], menu[1]"
   ]
  },
  {
   "cell_type": "code",
   "execution_count": 33,
   "metadata": {},
   "outputs": [
    {
     "name": "stdout",
     "output_type": "stream",
     "text": [
      "햄버거 10개는 50달라\n"
     ]
    }
   ],
   "source": [
    "\n",
    "\n",
    "price = menu[0] * menu[1]\n",
    "s = '햄버거 {}개는 {}달라'\n",
    "pr = s.format(menu[0], price)\n",
    "print(pr)"
   ]
  },
  {
   "cell_type": "code",
   "execution_count": 36,
   "metadata": {
    "scrolled": true
   },
   "outputs": [
    {
     "name": "stdout",
     "output_type": "stream",
     "text": [
      "인천여상 3학년 32.12\n"
     ]
    }
   ],
   "source": [
    "stu = '%s %d학년 %.2f'\n",
    "pr = stu%('인천여상', 3, 32.123)\n",
    "print(pr)"
   ]
  },
  {
   "cell_type": "code",
   "execution_count": 38,
   "metadata": {},
   "outputs": [],
   "source": [
    "juso = '   인천시 연수구 동춘동     '"
   ]
  },
  {
   "cell_type": "code",
   "execution_count": 41,
   "metadata": {},
   "outputs": [
    {
     "data": {
      "text/plain": [
       "(str, 19)"
      ]
     },
     "execution_count": 41,
     "metadata": {},
     "output_type": "execute_result"
    }
   ],
   "source": [
    "type(juso), len(juso)"
   ]
  },
  {
   "cell_type": "code",
   "execution_count": 47,
   "metadata": {},
   "outputs": [],
   "source": [
    "add = juso.strip()"
   ]
  },
  {
   "cell_type": "code",
   "execution_count": 45,
   "metadata": {},
   "outputs": [
    {
     "data": {
      "text/plain": [
       "'   인천시 연수구 동춘동     '"
      ]
     },
     "execution_count": 45,
     "metadata": {},
     "output_type": "execute_result"
    }
   ],
   "source": [
    "juso"
   ]
  },
  {
   "cell_type": "code",
   "execution_count": 49,
   "metadata": {},
   "outputs": [
    {
     "data": {
      "text/plain": [
       "'인천시 연수구 동춘동'"
      ]
     },
     "execution_count": 49,
     "metadata": {},
     "output_type": "execute_result"
    }
   ],
   "source": [
    "add"
   ]
  },
  {
   "cell_type": "code",
   "execution_count": 51,
   "metadata": {},
   "outputs": [
    {
     "data": {
      "text/plain": [
       "('인천시 연수구 동춘동', 11)"
      ]
     },
     "execution_count": 51,
     "metadata": {},
     "output_type": "execute_result"
    }
   ],
   "source": [
    "add, len(add)"
   ]
  },
  {
   "cell_type": "code",
   "execution_count": 53,
   "metadata": {},
   "outputs": [
    {
     "data": {
      "text/plain": [
       "['인천시', '연수구', '동춘동']"
      ]
     },
     "execution_count": 53,
     "metadata": {},
     "output_type": "execute_result"
    }
   ],
   "source": [
    "add.split()"
   ]
  },
  {
   "cell_type": "code",
   "execution_count": 55,
   "metadata": {},
   "outputs": [
    {
     "data": {
      "text/plain": [
       "True"
      ]
     },
     "execution_count": 55,
     "metadata": {},
     "output_type": "execute_result"
    }
   ],
   "source": [
    "add.startswith('인천')"
   ]
  },
  {
   "cell_type": "code",
   "execution_count": 58,
   "metadata": {},
   "outputs": [
    {
     "data": {
      "text/plain": [
       "True"
      ]
     },
     "execution_count": 58,
     "metadata": {},
     "output_type": "execute_result"
    }
   ],
   "source": [
    "add.endswith('동춘동')"
   ]
  },
  {
   "cell_type": "code",
   "execution_count": 59,
   "metadata": {},
   "outputs": [
    {
     "name": "stdout",
     "output_type": "stream",
     "text": [
      "숫자는 10\n"
     ]
    }
   ],
   "source": [
    "num = 10\n",
    "if num ==10 : \n",
    "    print('숫자는 10')\n",
    "else:\n",
    "    print('숫자는 10이 아니다')"
   ]
  },
  {
   "cell_type": "code",
   "execution_count": 61,
   "metadata": {},
   "outputs": [
    {
     "name": "stdout",
     "output_type": "stream",
     "text": [
      "짝수\n"
     ]
    }
   ],
   "source": [
    "num = 10\n",
    "if num %2==0 : \n",
    "    print('짝수')\n",
    "else:\n",
    "    print('홀수')"
   ]
  },
  {
   "cell_type": "markdown",
   "metadata": {},
   "source": [
    "### [문제]입력을 받아서 짝수(펭수)인지 홀수(워크맨)인지 알려줌\n",
    "- 입력을 받는다\n",
    "- 정수로 바꾼다\n",
    "- if문으로 짝수인지 확인\n",
    "- 출력"
   ]
  },
  {
   "cell_type": "code",
   "execution_count": null,
   "metadata": {},
   "outputs": [],
   "source": [
    "num = int(input('숫자 입력 >>'))\n",
    "\n",
    "if num %2==0 : \n",
    "    print('펭수')\n",
    "else:\n",
    "    print('워크맨')"
   ]
  },
  {
   "cell_type": "code",
   "execution_count": 1,
   "metadata": {},
   "outputs": [
    {
     "name": "stdout",
     "output_type": "stream",
     "text": [
      "20\n",
      "21\n",
      "22\n",
      "23\n",
      "24\n",
      "25\n",
      "26\n",
      "27\n",
      "28\n",
      "29\n",
      "30\n"
     ]
    }
   ],
   "source": [
    "for i in range(20, 31) :\n",
    "    print(i)"
   ]
  },
  {
   "cell_type": "code",
   "execution_count": 6,
   "metadata": {},
   "outputs": [
    {
     "name": "stdout",
     "output_type": "stream",
     "text": [
      "20\n",
      "합계 : 0\n",
      "21\n",
      "합계 : 21\n",
      "22\n",
      "합계 : 21\n",
      "23\n",
      "합계 : 44\n",
      "24\n",
      "합계 : 44\n",
      "25\n",
      "합계 : 69\n",
      "26\n",
      "합계 : 69\n",
      "27\n",
      "합계 : 96\n",
      "28\n",
      "합계 : 96\n",
      "29\n",
      "합계 : 125\n",
      "30\n",
      "합계 : 125\n"
     ]
    }
   ],
   "source": [
    "sum=0\n",
    "for i in range(20, 31) :\n",
    "    if i%2 !=0 :\n",
    "        sum += i\n",
    "    print(i)\n",
    "    print('합계 :',sum)"
   ]
  },
  {
   "cell_type": "markdown",
   "metadata": {},
   "source": [
    "### [문제 만들기]\n",
    "- for if"
   ]
  },
  {
   "cell_type": "code",
   "execution_count": 9,
   "metadata": {},
   "outputs": [
    {
     "name": "stdout",
     "output_type": "stream",
     "text": [
      "0\n",
      "3\n",
      "6\n",
      "9\n",
      "12\n",
      "15\n",
      "18\n",
      "21\n",
      "24\n",
      "27\n",
      "30\n",
      "33\n",
      "36\n",
      "39\n",
      "42\n",
      "45\n",
      "48\n",
      "51\n",
      "54\n",
      "57\n",
      "60\n",
      "63\n",
      "66\n",
      "69\n",
      "72\n",
      "75\n",
      "78\n",
      "81\n",
      "84\n",
      "87\n",
      "90\n",
      "93\n",
      "96\n",
      "99\n"
     ]
    }
   ],
   "source": [
    "for i in range(0,100) :\n",
    "    if i%3==0 :\n",
    "        print(i)"
   ]
  }
 ],
 "metadata": {
  "kernelspec": {
   "display_name": "Python 3",
   "language": "python",
   "name": "python3"
  },
  "language_info": {
   "codemirror_mode": {
    "name": "ipython",
    "version": 3
   },
   "file_extension": ".py",
   "mimetype": "text/x-python",
   "name": "python",
   "nbconvert_exporter": "python",
   "pygments_lexer": "ipython3",
   "version": "3.7.4"
  }
 },
 "nbformat": 4,
 "nbformat_minor": 2
}
